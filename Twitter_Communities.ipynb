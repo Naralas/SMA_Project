{
 "cells": [
  {
   "cell_type": "markdown",
   "metadata": {},
   "source": [
    "Social Media Analytics Project 8 - Community Detection in a Twitter Network\n",
    "===\n",
    "Goloviatinski Sergiy, Herbelin Ludovic <br />\n",
    "MCS 2020"
   ]
  },
  {
   "cell_type": "code",
   "execution_count": 1,
   "metadata": {},
   "outputs": [],
   "source": [
    "import matplotlib.pyplot as plt\n",
    "import numpy as np\n",
    "import scipy as sp\n",
    "import networkx as nx\n",
    "from math import sqrt, log\n",
    "from tqdm.notebook import trange, tqdm"
   ]
  },
  {
   "cell_type": "markdown",
   "metadata": {},
   "source": [
    "## Dataset loading"
   ]
  },
  {
   "cell_type": "code",
   "execution_count": 2,
   "metadata": {},
   "outputs": [],
   "source": [
    "DATA_COMBINED_PATH = 'data/twitter_combined.txt'\n",
    "DATA_OTHERS = 'data/twitter/'"
   ]
  },
  {
   "cell_type": "code",
   "execution_count": 3,
   "metadata": {},
   "outputs": [
    {
     "name": "stdout",
     "output_type": "stream",
     "text": [
      "Number of nodes : 81306\n",
      "Number of edges : 1342310\n"
     ]
    }
   ],
   "source": [
    "G = nx.Graph()\n",
    "\n",
    "edges = nx.read_edgelist(DATA_COMBINED_PATH)\n",
    "\n",
    "G.add_edges_from(edges.edges())\n",
    "\n",
    "print(f\"Number of nodes : {len(G.nodes)}\")\n",
    "print(f\"Number of edges : {len(G.edges())}\")"
   ]
  },
  {
   "cell_type": "markdown",
   "metadata": {},
   "source": [
    "### Reducing the size of the graph"
   ]
  },
  {
   "cell_type": "code",
   "execution_count": 4,
   "metadata": {},
   "outputs": [
    {
     "name": "stdout",
     "output_type": "stream",
     "text": [
      "Number of nodes : 200\n",
      "Number of edges : 9291\n"
     ]
    }
   ],
   "source": [
    "# Reduce the graph size, drop arbitrarily (temporary solution)\n",
    "N_NODES = 200\n",
    "\n",
    "G = G.subgraph(list(G)[:N_NODES])\n",
    "\n",
    "print(f\"Number of nodes : {len(G.nodes)}\")\n",
    "print(f\"Number of edges : {len(G.edges())}\")"
   ]
  },
  {
   "cell_type": "markdown",
   "metadata": {},
   "source": [
    "## Implementation"
   ]
  },
  {
   "cell_type": "markdown",
   "metadata": {},
   "source": [
    "### Girvan-Newman"
   ]
  },
  {
   "cell_type": "code",
   "execution_count": 5,
   "metadata": {},
   "outputs": [],
   "source": [
    "from networkx.algorithms.community.centrality import girvan_newman\n",
    "\n",
    "def compute_gn(G, n_iter):\n",
    "    comp = girvan_newman(G)\n",
    "\n",
    "    for i in trange(n_iter):\n",
    "        pass"
   ]
  },
  {
   "cell_type": "markdown",
   "metadata": {},
   "source": [
    "### Cosine similarity"
   ]
  },
  {
   "cell_type": "code",
   "execution_count": 6,
   "metadata": {},
   "outputs": [],
   "source": [
    "def cosine_sim(vi_neighbors, vj_neighbors):\n",
    "    return len(vi_neighbors.intersection(vj_neighbors)) / sqrt(len(vi_neighbors) * len(vj_neighbors))\n",
    "\n",
    "def compute_cosine_sim(G, selected_nodes):\n",
    "    nodes_similarities = {}\n",
    "    \n",
    "    # TODO : optimize not to compute multiple times the same product maybe triangular matrix\n",
    "    for node in selected_nodes:\n",
    "        vi_neighbors = set(G[node])\n",
    "        for neighbor in vi_neighbors:\n",
    "            vj_neighbors = set(G[neighbor])\n",
    "            sim = cosine_sim(vi_neighbors, vj_neighbors)\n",
    "            nodes_similarities[(node, neighbor)] = sim\n",
    "    \n",
    "    return nodes_similarities"
   ]
  },
  {
   "cell_type": "markdown",
   "metadata": {},
   "source": [
    "### Adamic-Adar similarity"
   ]
  },
  {
   "cell_type": "code",
   "execution_count": 11,
   "metadata": {},
   "outputs": [],
   "source": [
    "def adamic_adar_sim(G, vi_neighbors, vj_neighbors):\n",
    "    common_neighbors = vi_neighbors.intersection(vj_neighbors)\n",
    "    \n",
    "    # sum of 1 / log(nb of neighbors for each common neighbor to vi and vj)\n",
    "    return sum([1 / log(len(G[neighbor])) for neighbor in common_neighbors])\n",
    "        \n",
    "\n",
    "def compute_adamic_adar_sim(G, selected_nodes):\n",
    "    nodes_similarities = {}\n",
    "    \n",
    "    # TODO : optimize not to compute multiple times the same product maybe triangular matrix\n",
    "    for node in selected_nodes:\n",
    "        vi_neighbors = set(G[node])\n",
    "        for neighbor in vi_neighbors:\n",
    "            vj_neighbors = set(G[neighbor])\n",
    "            sim = adamic_adar_sim(G, vi_neighbors, vj_neighbors)\n",
    "            nodes_similarities[(node, neighbor)] = sim\n",
    "    \n",
    "    return nodes_similarities"
   ]
  },
  {
   "cell_type": "markdown",
   "metadata": {},
   "source": [
    "## Analysis"
   ]
  },
  {
   "cell_type": "markdown",
   "metadata": {},
   "source": [
    "### Compute the clusters"
   ]
  },
  {
   "cell_type": "code",
   "execution_count": null,
   "metadata": {},
   "outputs": [],
   "source": []
  },
  {
   "cell_type": "markdown",
   "metadata": {},
   "source": [
    "### Find the top K users"
   ]
  },
  {
   "cell_type": "code",
   "execution_count": 12,
   "metadata": {},
   "outputs": [],
   "source": [
    "k = 10\n",
    "\n",
    "top_nodes = list(G.nodes)[:k]"
   ]
  },
  {
   "cell_type": "markdown",
   "metadata": {},
   "source": [
    "### Find the most similar nodes"
   ]
  },
  {
   "cell_type": "code",
   "execution_count": 13,
   "metadata": {},
   "outputs": [
    {
     "name": "stdout",
     "output_type": "stream",
     "text": [
      "Most similar nodes using function : cosine are ('259842341', '358775055') with similarity value : 0.877 .\n",
      "Most similar nodes using function : adamic-adar are ('259842341', '214328887') with similarity value : 32.373 .\n"
     ]
    }
   ],
   "source": [
    "similarities_tested = {\n",
    "    'cosine':compute_cosine_sim,\n",
    "    'adamic-adar':compute_adamic_adar_sim,\n",
    "}\n",
    "\n",
    "\n",
    "for similarity_label, similarity_func in similarities_tested.items():\n",
    "    top_nodes_sims = similarity_func(G, top_nodes)\n",
    "    most_similar_pair = max(top_nodes_sims, key=top_nodes_sims.get)\n",
    "    \n",
    "    print(f\"Most similar nodes using function : {similarity_label} are {most_similar_pair} with similarity value : {top_nodes_sims[most_similar_pair]:.3f}\") "
   ]
  },
  {
   "cell_type": "markdown",
   "metadata": {},
   "source": [
    "## Visualization"
   ]
  },
  {
   "cell_type": "code",
   "execution_count": null,
   "metadata": {},
   "outputs": [],
   "source": []
  }
 ],
 "metadata": {
  "kernelspec": {
   "display_name": "Python 3",
   "language": "python",
   "name": "python3"
  },
  "language_info": {
   "codemirror_mode": {
    "name": "ipython",
    "version": 3
   },
   "file_extension": ".py",
   "mimetype": "text/x-python",
   "name": "python",
   "nbconvert_exporter": "python",
   "pygments_lexer": "ipython3",
   "version": "3.7.0"
  }
 },
 "nbformat": 4,
 "nbformat_minor": 4
}
